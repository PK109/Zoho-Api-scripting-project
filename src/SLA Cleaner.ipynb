{
 "cells": [
  {
   "cell_type": "markdown",
   "id": "5044888e-7403-4693-9dde-5e4fe7b5c54b",
   "metadata": {},
   "source": [
    "## SLA Cleaner\n",
    "The purpose of this notebook is to remove SLA assigned to the account based on the `Support Subsription Expiry Date` property.  \n",
    "If subscription is expired, SLA is cleared with all related fields.  \n",
    "Also, when customer is a part of dedicated group, some previleges are granted by default.  \n",
    "Data is obtained from the custom view created on Zoho FrontEnd.  "
   ]
  },
  {
   "cell_type": "code",
   "execution_count": null,
   "id": "13483b7c-70dc-4d71-8fd6-d1547f81f272",
   "metadata": {},
   "outputs": [],
   "source": [
    "# setting notebook source\n",
    "with open('./config_path.py') as f:\n",
    "    exec(f.read())"
   ]
  },
  {
   "cell_type": "code",
   "execution_count": null,
   "id": "ee6a7d7f-ea3b-4724-bf2c-057f18093725",
   "metadata": {},
   "outputs": [],
   "source": [
    "from config import secrets, settings\n",
    "from zoho_api import *\n",
    "import pandas as pd\n",
    "import copy\n",
    "from dateutil import parser\n",
    "from datetime import date, time"
   ]
  },
  {
   "cell_type": "code",
   "execution_count": null,
   "id": "5071c8e8-dfdb-402f-9dc7-caa918acfefe",
   "metadata": {},
   "outputs": [],
   "source": [
    "backup_data = {}\n",
    "response_data = {}"
   ]
  },
  {
   "cell_type": "code",
   "execution_count": null,
   "id": "d86b7d1e-9fde-4ee5-b1bd-088e5422513c",
   "metadata": {},
   "outputs": [],
   "source": [
    "refresh_token()"
   ]
  },
  {
   "cell_type": "code",
   "execution_count": null,
   "id": "d3ca6b38-152a-4f88-9795-e5497886ae60",
   "metadata": {},
   "outputs": [],
   "source": [
    "SLAs = {}\n",
    "SLAs['SupportME Premium'] = '10977000006774075'\n",
    "SLAs['SupportME Comfort'] = '10977000006804083'\n",
    "SLAs['SupportME ComfortPlus'] = '10977000006804083'\n",
    "SLAs['SupportME Standard'] = '10977000006804131'\n",
    "SLAs[None] = ''\n",
    "SLAs"
   ]
  },
  {
   "cell_type": "code",
   "execution_count": null,
   "id": "49f6bd41-fe72-4c56-9873-85bba1d58642",
   "metadata": {},
   "outputs": [],
   "source": [
    "SupportHours = {}\n",
    "SupportHours['SupportME Premium'] = 204\n",
    "SupportHours['SupportME Comfort'] = 96\n",
    "SupportHours['SupportME ComfortPlus'] = 8\n",
    "SupportHours['SupportME Standard'] = 36\n",
    "SupportHours[None] = None\n",
    "SupportHours"
   ]
  },
  {
   "cell_type": "markdown",
   "id": "548e97e5-4192-4d96-8e43-d240c8e036bf",
   "metadata": {},
   "source": [
    "## Tests"
   ]
  },
  {
   "cell_type": "code",
   "execution_count": null,
   "id": "886899b2-5c77-46d3-987e-b4284a4a9cf2",
   "metadata": {
    "scrolled": true
   },
   "outputs": [],
   "source": [
    "read_account('10977000000586229')"
   ]
  },
  {
   "cell_type": "markdown",
   "id": "18e44b90-4447-455f-8a14-9f153944dd76",
   "metadata": {},
   "source": [
    "## Application"
   ]
  },
  {
   "cell_type": "code",
   "execution_count": null,
   "id": "a5749733-ac34-42f6-8881-720b062641e1",
   "metadata": {},
   "outputs": [],
   "source": [
    "field_list = ['id'\n",
    "              , 'accountName'\n",
    "              , 'cf_account_id'\n",
    "              , 'website'\n",
    "              , 'cf_account_id'\n",
    "              , 'cf_support_package'\n",
    "              , 'cf_support_subsription_expiry_date'\n",
    "              , 'associatedSLAIds'\n",
    "              , 'cf_max_support_time'\n",
    "              , 'cf_picklist_1'  # Customer type\n",
    "              , 'cf_loyality_program'\n",
    "             ]"
   ]
  },
  {
   "cell_type": "code",
   "execution_count": null,
   "id": "a6784ca7-1a7f-47d6-a152-f3fbfa84688d",
   "metadata": {},
   "outputs": [],
   "source": [
    "accounts = list_accounts( view=\"SI Elite customers\", field_list=field_list)"
   ]
  },
  {
   "cell_type": "code",
   "execution_count": null,
   "id": "952987a9-19bc-4880-8b56-f0ad7057c3e5",
   "metadata": {},
   "outputs": [],
   "source": [
    "len(accounts)"
   ]
  },
  {
   "cell_type": "code",
   "execution_count": null,
   "id": "178ea636-d912-4f97-8fb2-2305e3941ed9",
   "metadata": {},
   "outputs": [],
   "source": [
    "accounts_updated = copy.deepcopy(accounts)\n",
    "today = date.today()\n",
    "modifications = {}\n",
    "expired_accounts = {}\n",
    "for account in accounts_updated:\n",
    "    support_package = ''\n",
    "    # validation of expiry date\n",
    "    if account['cf']['cf_support_subsription_expiry_date'] is not None:\n",
    "        expiry_date = parser.parse(account['cf']['cf_support_subsription_expiry_date']).date()\n",
    "    else:\n",
    "        expiry_date = today\n",
    "        \n",
    "    # customer is distributor     \n",
    "    if account['cf']['cf_picklist_1'] == 'Distributor': \n",
    "        support_package = 'SupportME Premium'\n",
    "        account['cf']['cf_support_subsription_expiry_date'] = None # have no expiration date for support\n",
    "    \n",
    "    # customer is FDI and no extra support package is used\n",
    "    elif account['cf']['cf_picklist_1'] == 'FDI' and account['cf']['cf_support_package'] is None: \n",
    "        support_package = 'SupportME Standard'\n",
    "        account['cf']['cf_support_subsription_expiry_date'] = None # have no expiration date for support\n",
    "    \n",
    "    # package have expired\n",
    "    elif today > expiry_date : \n",
    "        expired_accounts[account['cf']['cf_account_id'] ] = copy.deepcopy(account)\n",
    "        support_package = None\n",
    "        account['cf']['cf_support_subsription_expiry_date'] = support_package\n",
    "    \n",
    "    # package have faulty name and shall be removed\n",
    "    elif account['cf']['cf_support_package'] not in SupportHours.keys(): \n",
    "        support_package = None\n",
    "        account['cf']['cf_support_subsription_expiry_date'] = support_package\n",
    "\n",
    "    # if any modification have been applied on data, prepare setup\n",
    "    if support_package != '':   \n",
    "        zoho_id = account.pop('id')\n",
    "        account.pop('accountName')\n",
    "        account.pop('associatedSLAIds')\n",
    "        account['cf'].pop('cf_account_id')\n",
    "        account['cf'].pop('cf_picklist_1')\n",
    "        account['cf']['cf_support_package'] = support_package\n",
    "        account['cf']['cf_max_support_time'] = SupportHours[support_package]\n",
    "        account['website'] = support_package\n",
    "        modifications[zoho_id] = account"
   ]
  },
  {
   "cell_type": "code",
   "execution_count": null,
   "id": "d9aed776-b08e-4822-a019-b2d2d652b39b",
   "metadata": {},
   "outputs": [],
   "source": [
    "len(expired_accounts)"
   ]
  },
  {
   "cell_type": "code",
   "execution_count": null,
   "id": "ab243096-3d53-4d91-9d81-75f8cd518203",
   "metadata": {},
   "outputs": [],
   "source": [
    "processedIds = set()\n",
    "missingIds = set()"
   ]
  },
  {
   "cell_type": "code",
   "execution_count": null,
   "id": "980a1e1f-66ee-4bc5-8e4e-8acf82423af2",
   "metadata": {},
   "outputs": [],
   "source": [
    "refresh_token()\n",
    "\n",
    "for index, record in enumerate(modifications.items()):\n",
    "    if record[0] in processedIds:\n",
    "        continue\n",
    "    account = backup_updated_fields(record[0], record[1], backup_data, response_data)\n",
    "    if account is None:\n",
    "        missingIds.add(record[0])\n",
    "    else:\n",
    "        try:\n",
    "            account, response = update_account(record[0], record[1])\n",
    "            if account is None or response.status_code != 200:\n",
    "                missingIds.add(record[0])\n",
    "                print(f\"\\r{index + 1}) Error for updating account: {record[0]}. \\t\\t\")\n",
    "            else:\n",
    "                support_package = record[1]['cf']['cf_support_package']\n",
    "                print(f\"{index + 1}) Data for {record[0]} have been updated.\\t\", end='')\n",
    "                apply_sla(record[0], SLAs[support_package])\n",
    "                processedIds.add(record[0])\n",
    "        except Exception as e:   \n",
    "            missingIds.add(record[0])\n",
    "            print(f\"\\r{index + 1}) Error for executing script for account: {record[0]}: {e}\")\n",
    "print(\"Updating process have been finished\")"
   ]
  },
  {
   "cell_type": "code",
   "execution_count": null,
   "id": "b86a8d88-3ef5-4c21-9887-89979a761301",
   "metadata": {},
   "outputs": [],
   "source": [
    "updated_fields = record[1]\n",
    "response_filename = \"response_\" +str(today) + \".json\"\n",
    "backup_filename = \"backup_\" +str(today) + \".json\"\n",
    "save_response_to_file(response_data = response_data,  filename=response_filename, updated_fields=updated_fields)\n",
    "save_backup_to_file(backup_data, filename=backup_filename, updated_fields=updated_fields)"
   ]
  },
  {
   "cell_type": "code",
   "execution_count": null,
   "id": "e87632ef-cb0c-4e45-b1aa-c9aaf7fac9c7",
   "metadata": {},
   "outputs": [],
   "source": []
  }
 ],
 "metadata": {
  "kernelspec": {
   "display_name": "Python 3 (ipykernel)",
   "language": "python",
   "name": "python3"
  },
  "language_info": {
   "codemirror_mode": {
    "name": "ipython",
    "version": 3
   },
   "file_extension": ".py",
   "mimetype": "text/x-python",
   "name": "python",
   "nbconvert_exporter": "python",
   "pygments_lexer": "ipython3",
   "version": "3.12.3"
  }
 },
 "nbformat": 4,
 "nbformat_minor": 5
}
