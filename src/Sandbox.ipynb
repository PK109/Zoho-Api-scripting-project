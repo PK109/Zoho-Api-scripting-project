{
 "cells": [
  {
   "cell_type": "markdown",
   "id": "0",
   "metadata": {},
   "source": [
    "## Sandbox\n",
    "A space for free experiments and building improvements for Zoho Api handling"
   ]
  },
  {
   "cell_type": "code",
   "execution_count": null,
   "id": "1",
   "metadata": {},
   "outputs": [],
   "source": [
    "# setting notebook source\n",
    "with open('./config_path.py') as f:\n",
    "    exec(f.read())"
   ]
  },
  {
   "cell_type": "code",
   "execution_count": null,
   "id": "2",
   "metadata": {},
   "outputs": [],
   "source": [
    "from config import secrets, settings\n",
    "from zoho_api import *\n",
    "import pandas as pd\n",
    "import copy\n",
    "from dateutil import parser\n",
    "from datetime import date, time\n",
    "import requests"
   ]
  },
  {
   "cell_type": "code",
   "execution_count": null,
   "id": "3",
   "metadata": {},
   "outputs": [],
   "source": [
    "backup_data = {}\n",
    "response_data = {}"
   ]
  },
  {
   "cell_type": "code",
   "execution_count": null,
   "id": "4",
   "metadata": {},
   "outputs": [],
   "source": [
    "obtain_token()"
   ]
  },
  {
   "cell_type": "code",
   "execution_count": null,
   "id": "5",
   "metadata": {},
   "outputs": [],
   "source": [
    "refresh_token()"
   ]
  },
  {
   "cell_type": "code",
   "execution_count": null,
   "id": "6",
   "metadata": {},
   "outputs": [],
   "source": [
    "SLAs = {}\n",
    "SLAs['SupportME Premium'] = '10977000006774075'\n",
    "SLAs['SupportME Comfort'] = '10977000006804083'\n",
    "SLAs['SupportME ComfortPlus'] = '10977000006804083'\n",
    "SLAs['SupportME Standard'] = '10977000006804131'\n",
    "SLAs[None] = ''\n",
    "SLAs"
   ]
  },
  {
   "cell_type": "code",
   "execution_count": null,
   "id": "7",
   "metadata": {},
   "outputs": [],
   "source": [
    "SupportHours = {}\n",
    "SupportHours['SupportME Premium'] = 204\n",
    "SupportHours['SupportME Comfort'] = 96\n",
    "SupportHours['SupportME ComfortPlus'] = 8\n",
    "SupportHours['SupportME Standard'] = 36\n",
    "SupportHours[None] = None\n",
    "SupportHours"
   ]
  },
  {
   "cell_type": "markdown",
   "id": "8",
   "metadata": {},
   "source": [
    "## Tests"
   ]
  },
  {
   "cell_type": "code",
   "execution_count": null,
   "id": "9",
   "metadata": {},
   "outputs": [],
   "source": [
    "def list_tags(limit=None, departmentName=\"Technical support\"):\n",
    "    # If limit is None, fetch all tags\n",
    "    depts, _ = list_departments()\n",
    "    deptId = depts[departmentName]\n",
    "\n",
    "    headers = {\n",
    "        'Authorization': f'Zoho-oauthtoken {secrets.access_token}',\n",
    "        'orgId': secrets.org_id\n",
    "    }\n",
    "\n",
    "    tag_data = {}\n",
    "    index = 0\n",
    "    page_limit = 100 if limit is None else min(limit, 100)  # use 100 max per page\n",
    "\n",
    "    while True:\n",
    "        response = requests.get(\n",
    "            f'{settings.api_url}/ticketTags?limit={page_limit}&departmentId={deptId}&from={index}',\n",
    "            headers=headers\n",
    "        )\n",
    "\n",
    "        if response.status_code != 200:\n",
    "            print(f'Błąd: {response.status_code}')\n",
    "            print(response.text)\n",
    "            return None\n",
    "\n",
    "        data = response.json()\n",
    "        tags_cleaned = {record['id']: record['name'] for record in data['data']}\n",
    "        tag_data.update(tags_cleaned)\n",
    "\n",
    "        # Stop if fewer results were returned than requested (end of data)\n",
    "        if len(data['data']) < page_limit:\n",
    "            break\n",
    "\n",
    "        index += page_limit\n",
    "\n",
    "        # Stop if total collected tags reach the specified limit\n",
    "        if limit is not None and len(tag_data) >= limit:\n",
    "            tag_data = dict(list(tag_data.items())[:limit])\n",
    "            break\n",
    "\n",
    "    return tag_data"
   ]
  },
  {
   "cell_type": "code",
   "execution_count": null,
   "id": "10",
   "metadata": {},
   "outputs": [],
   "source": [
    "tags = list_tags(limit=250)\n",
    "len(tags)"
   ]
  },
  {
   "cell_type": "code",
   "execution_count": null,
   "id": "11",
   "metadata": {},
   "outputs": [],
   "source": []
  },
  {
   "cell_type": "code",
   "execution_count": null,
   "id": "12",
   "metadata": {},
   "outputs": [],
   "source": [
    "sorted_tags = dict(sorted(tags.items(), key=lambda item: item[1]))\n",
    "sorted_tags"
   ]
  },
  {
   "cell_type": "code",
   "execution_count": null,
   "id": "13",
   "metadata": {},
   "outputs": [],
   "source": [
    "def list_threads(ticket_id: str, index: int, limit = 100):\n",
    "\n",
    "    # Nagłówki żądania\n",
    "    thread_ids = []\n",
    "    thread_data = []\n",
    "    headers = {\n",
    "        'Authorization': f'Zoho-oauthtoken {secrets.access_token}',\n",
    "        'orgId': secrets.org_id\n",
    "    }\n",
    "    # Wykonanie żądania GET do API\n",
    "    response = requests.get(\n",
    "        f'{settings.api_url}/tickets/{ticket_id}/conversations',\n",
    "        headers=headers\n",
    "    )\n",
    "    # Sprawdzenie odpowiedzi\n",
    "    if response.status_code == 200:\n",
    "        data = response.json()\n",
    "        thread_data.extend(data['data'])\n",
    "        for thread in thread_data:\n",
    "            thread_ids.append(thread['id'])\n",
    "    else:\n",
    "        print(f'Błąd: {response.status_code}')\n",
    "        print(response.text)\n",
    "    return thread_data, thread_ids"
   ]
  },
  {
   "cell_type": "code",
   "execution_count": null,
   "id": "14",
   "metadata": {},
   "outputs": [],
   "source": [
    "def read_thread(ticket_id: str, thread_id: str):\n",
    "    # Nagłówki żądania\n",
    "    headers = {\n",
    "        'Authorization': f'Zoho-oauthtoken {secrets.access_token}',\n",
    "        'orgId': secrets.org_id\n",
    "    }\n",
    "    \n",
    "    # Wykonanie żądania GET do API\n",
    "    response = requests.get(\n",
    "        f'{settings.api_url}/tickets/{ticket_id}/threads/{thread_id}',\n",
    "        headers=headers\n",
    "    )\n",
    "    \n",
    "    # Sprawdzenie odpowiedzi\n",
    "    if response.status_code == 200:\n",
    "        thread_data = response.json()\n",
    "        return thread_data, response\n",
    "    else:\n",
    "        print(f'Błąd: {response.status_code}')\n",
    "        print(response.text)\n",
    "        return None, response\n",
    "    "
   ]
  },
  {
   "cell_type": "code",
   "execution_count": null,
   "id": "15",
   "metadata": {},
   "outputs": [],
   "source": [
    "response, ids = list_threads(ticket_id=\"10977000061152288\",index=0)"
   ]
  },
  {
   "cell_type": "code",
   "execution_count": null,
   "id": "16",
   "metadata": {},
   "outputs": [],
   "source": [
    "ids"
   ]
  },
  {
   "cell_type": "code",
   "execution_count": null,
   "id": "17",
   "metadata": {},
   "outputs": [],
   "source": [
    "thread, response = read_thread(ticket_id=\"10977000061152288\",thread_id='10977000061132463')"
   ]
  },
  {
   "cell_type": "code",
   "execution_count": null,
   "id": "18",
   "metadata": {},
   "outputs": [],
   "source": [
    "thread['content']"
   ]
  },
  {
   "cell_type": "code",
   "execution_count": null,
   "id": "19",
   "metadata": {},
   "outputs": [],
   "source": [
    "ids"
   ]
  },
  {
   "cell_type": "code",
   "execution_count": null,
   "id": "20",
   "metadata": {},
   "outputs": [],
   "source": [
    "from bs4 import BeautifulSoup\n",
    "import re\n",
    "\n",
    "\n",
    "# Parsowanie HTML za pomocą BeautifulSoup\n",
    "soup = BeautifulSoup(thread['content'], 'html.parser')\n",
    "\n",
    "# Wyciągnięcie czystego tekstu\n",
    "text_content = soup.get_text()\n",
    "print (text_content)\n",
    "# Wzorce do usunięcia podpisów, kontaktów i historii konwersacji\n",
    "signature_patterns = [\n",
    "    r'Pozdrawiamy,',\n",
    "    r'Dział Wsparcia Sprzedaży',\n",
    "    r'tel\\\\.\\\\s*\\\\+?\\\\d+',\n",
    "    r'From:.*',\n",
    "    r'Sent:.*',\n",
    "    r'--+'\n",
    "]\n",
    "\n",
    "# Usunięcie wszystkiego po pierwszym wystąpieniu któregokolwiek z wzorców\n",
    "for pattern in signature_patterns:\n",
    "    text_content = re.split(pattern, text_content)[0]\n",
    "\n",
    "# Zapis oczyszczonego tekstu do pliku\n",
    "with open('cleaned_email.txt', 'w', encoding='utf-8') as file:\n",
    "    file.write(text_content.strip())\n",
    "\n",
    "print(\"Oczyszczona treść wiadomości została zapisana do 'cleaned_email.txt'.\")\n"
   ]
  }
 ],
 "metadata": {
  "kernelspec": {
   "display_name": "Python 3 (ipykernel)",
   "language": "python",
   "name": "python3"
  },
  "language_info": {
   "codemirror_mode": {
    "name": "ipython",
    "version": 3
   },
   "file_extension": ".py",
   "mimetype": "text/x-python",
   "name": "python",
   "nbconvert_exporter": "python",
   "pygments_lexer": "ipython3",
   "version": "3.12.3"
  }
 },
 "nbformat": 4,
 "nbformat_minor": 5
}
