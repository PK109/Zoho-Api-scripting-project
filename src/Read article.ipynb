{
 "cells": [
  {
   "cell_type": "markdown",
   "id": "5044888e-7403-4693-9dde-5e4fe7b5c54b",
   "metadata": {},
   "source": [
    "## Read Article sample\n",
    "Based on ID of article, it is possible to read entire content of article.  \n",
    "This is raw version, without proper handling of fetched data."
   ]
  },
  {
   "cell_type": "code",
   "execution_count": null,
   "id": "13483b7c-70dc-4d71-8fd6-d1547f81f272",
   "metadata": {},
   "outputs": [],
   "source": [
    "# setting notebook source\n",
    "with open('./config_path.py') as f:\n",
    "    exec(f.read())"
   ]
  },
  {
   "cell_type": "code",
   "execution_count": null,
   "id": "ee6a7d7f-ea3b-4724-bf2c-057f18093725",
   "metadata": {},
   "outputs": [],
   "source": [
    "from config import secrets, settings\n",
    "from zoho_api import *\n",
    "import requests"
   ]
  },
  {
   "cell_type": "code",
   "execution_count": null,
   "id": "9f66a8ae-1e4a-491d-9fe7-2e5a5f4a5129",
   "metadata": {},
   "outputs": [],
   "source": [
    "obtain_token() # with scope of: Desk.articles.READ"
   ]
  },
  {
   "cell_type": "code",
   "execution_count": null,
   "id": "0a0c0cf6-b2e4-4e22-94c3-a67a506f6391",
   "metadata": {},
   "outputs": [],
   "source": [
    "def read_article(article_id: str):\n",
    "    # Nagłówki żądania\n",
    "    headers = {\n",
    "        'Authorization': f'Zoho-oauthtoken {secrets.access_token}',\n",
    "        'orgId': secrets.org_id\n",
    "    }\n",
    "    \n",
    "    # Wykonanie żądania GET do API\n",
    "    response = requests.get(\n",
    "        f'{settings.api_url}/articles/{article_id}',\n",
    "        headers=headers\n",
    "    )\n",
    "    \n",
    "    # Sprawdzenie odpowiedzi\n",
    "    if response.status_code == 200:\n",
    "        article_data = response.json()\n",
    "        return article_data, response\n",
    "    else:\n",
    "        print(f'Błąd: {response.status_code}')\n",
    "        print(response.text)\n",
    "        return None, response\n",
    "    "
   ]
  },
  {
   "cell_type": "code",
   "execution_count": null,
   "id": "25ae8d49-7de7-4d85-80ed-dcc6644122d5",
   "metadata": {},
   "outputs": [],
   "source": [
    "article, response = read_article('10977000059021001')"
   ]
  },
  {
   "cell_type": "code",
   "execution_count": null,
   "id": "bb213c19-4b61-4fb1-b877-8079a12c2166",
   "metadata": {},
   "outputs": [],
   "source": [
    "article"
   ]
  }
 ],
 "metadata": {
  "kernelspec": {
   "display_name": "Python 3 (ipykernel)",
   "language": "python",
   "name": "python3"
  },
  "language_info": {
   "codemirror_mode": {
    "name": "ipython",
    "version": 3
   },
   "file_extension": ".py",
   "mimetype": "text/x-python",
   "name": "python",
   "nbconvert_exporter": "python",
   "pygments_lexer": "ipython3",
   "version": "3.12.3"
  }
 },
 "nbformat": 4,
 "nbformat_minor": 5
}
