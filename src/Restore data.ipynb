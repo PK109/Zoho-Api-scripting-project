{
 "cells": [
  {
   "cell_type": "markdown",
   "id": "0",
   "metadata": {},
   "source": [
    "## Restore data\n",
    "The purpose of this notebook is revert changes that were done during one of the previous batch modifications\n",
    "Data is obtained from the backup data created during recent modification."
   ]
  },
  {
   "cell_type": "code",
   "execution_count": null,
   "id": "1",
   "metadata": {},
   "outputs": [],
   "source": [
    "# setting notebook source\n",
    "with open('./config_path.py') as f:\n",
    "    exec(f.read())"
   ]
  },
  {
   "cell_type": "code",
   "execution_count": null,
   "id": "2",
   "metadata": {},
   "outputs": [],
   "source": [
    "from config import secrets, settings\n",
    "from zoho_api import *\n",
    "import pandas as pd\n",
    "import copy\n",
    "from dateutil import parser\n",
    "from datetime import date, time"
   ]
  },
  {
   "cell_type": "code",
   "execution_count": null,
   "id": "3",
   "metadata": {},
   "outputs": [],
   "source": [
    "backup_data = {}\n",
    "response_data = {}"
   ]
  },
  {
   "cell_type": "code",
   "execution_count": null,
   "id": "4",
   "metadata": {},
   "outputs": [],
   "source": [
    "refresh_token()"
   ]
  },
  {
   "cell_type": "code",
   "execution_count": null,
   "id": "5",
   "metadata": {},
   "outputs": [],
   "source": [
    "SLAs = {}\n",
    "SLAs['SupportME Premium'] = '10977000006774075'\n",
    "SLAs['SupportME Comfort'] = '10977000006804083'\n",
    "SLAs['SupportME ComfortPlus'] = '10977000006804083'\n",
    "SLAs['SupportME Standard'] = '10977000006804131'\n",
    "SLAs[None] = ''\n",
    "SLAs"
   ]
  },
  {
   "cell_type": "code",
   "execution_count": null,
   "id": "6",
   "metadata": {},
   "outputs": [],
   "source": [
    "SupportHours = {}\n",
    "SupportHours['SupportME Premium'] = 204\n",
    "SupportHours['SupportME Comfort'] = 96\n",
    "SupportHours['SupportME ComfortPlus'] = 8\n",
    "SupportHours['SupportME Standard'] = 36\n",
    "SupportHours[None] = None\n",
    "SupportHours"
   ]
  },
  {
   "cell_type": "markdown",
   "id": "7",
   "metadata": {},
   "source": [
    "## Application"
   ]
  },
  {
   "cell_type": "code",
   "execution_count": null,
   "id": "8",
   "metadata": {},
   "outputs": [],
   "source": [
    "field_list = ['id'\n",
    "              , 'accountName'\n",
    "              , 'cf_account_id'\n",
    "              , 'website'\n",
    "              , 'cf_account_id'\n",
    "              , 'cf_support_package'\n",
    "              , 'cf_support_subsription_expiry_date'\n",
    "              , 'associatedSLAIds'\n",
    "              , 'cf_max_support_time'\n",
    "              , 'cf_picklist_1'  # Customer type\n",
    "              , 'cf_loyality_program'\n",
    "             ]"
   ]
  },
  {
   "cell_type": "code",
   "execution_count": null,
   "id": "9",
   "metadata": {},
   "outputs": [],
   "source": [
    "accounts = load_backup_from_file(filename='../backups/response_2025-04-22.json')"
   ]
  },
  {
   "cell_type": "code",
   "execution_count": null,
   "id": "10",
   "metadata": {},
   "outputs": [],
   "source": [
    "df_accounts = pd.json_normalize(accounts.values())"
   ]
  },
  {
   "cell_type": "code",
   "execution_count": null,
   "id": "11",
   "metadata": {},
   "outputs": [],
   "source": [
    "columns_to_keep = ['id', 'accountName', 'website','associatedSLAIds', 'cf.cf_account_id', 'cf.cf_max_support_time', 'cf.cf_picklist_1', 'cf.cf_support_package','cf.cf_support_subsription_expiry_date',\n",
    "       'cf.cf_loyality_program']"
   ]
  },
  {
   "cell_type": "code",
   "execution_count": null,
   "id": "12",
   "metadata": {},
   "outputs": [],
   "source": [
    "df_accounts = df_accounts[columns_to_keep]"
   ]
  },
  {
   "cell_type": "code",
   "execution_count": null,
   "id": "13",
   "metadata": {},
   "outputs": [],
   "source": [
    "# drop not associated accounts\n",
    "df_accounts.dropna(subset=[ 'cf.cf_account_id','cf.cf_picklist_1'], inplace=True)"
   ]
  },
  {
   "cell_type": "code",
   "execution_count": null,
   "id": "14",
   "metadata": {},
   "outputs": [],
   "source": [
    "# filter out non-SI customers\n",
    "df_accounts = df_accounts[df_accounts['cf.cf_picklist_1'].str.contains('SI')]"
   ]
  },
  {
   "cell_type": "code",
   "execution_count": null,
   "id": "15",
   "metadata": {},
   "outputs": [],
   "source": [
    "df_accounts[df_accounts['cf.cf_loyality_program'].isin(['SI Registered', 'SI Member','SI Elite'])]['cf.cf_support_package'].value_counts()"
   ]
  },
  {
   "cell_type": "code",
   "execution_count": null,
   "id": "16",
   "metadata": {},
   "outputs": [],
   "source": [
    "update_df = df_accounts[df_accounts['cf.cf_loyality_program'].isin(['SI Registered', 'SI Member','SI Elite'])]"
   ]
  },
  {
   "cell_type": "code",
   "execution_count": null,
   "id": "17",
   "metadata": {},
   "outputs": [],
   "source": [
    "accounts_updated = copy.deepcopy(accounts)\n",
    "modifications = {}\n",
    "for account in update_df.iterrows():\n",
    "    support_package = ''\n",
    "    \n",
    "    # validation of expiry date\n",
    "    if account[1]['cf.cf_support_package'] == 'Standard':\n",
    "        support_package = 'SupportME Standard'\n",
    "    elif account[1]['cf.cf_support_package'] == 'Comfort':\n",
    "        support_package = 'SupportME Comfort'\n",
    "    elif account[1]['cf.cf_support_package'] == 'Premium':\n",
    "        support_package = 'SupportME Premium'\n",
    "    else:\n",
    "        raise Exception()\n",
    "        \n",
    "    my_dict = dict()\n",
    "    # if any modification have been applied on data, prepare setup\n",
    "    if support_package != '':\n",
    "        \n",
    "        my_dict['cf'] = {}\n",
    "        my_dict['cf']['cf_support_package'] = support_package\n",
    "        my_dict['cf']['cf_support_subsription_expiry_date'] = '2025-06-30'\n",
    "        my_dict['cf']['cf_max_support_time'] = SupportHours[support_package]       \n",
    "        modifications[ account[1].pop('id') ] =copy.deepcopy(my_dict)"
   ]
  },
  {
   "cell_type": "code",
   "execution_count": null,
   "id": "18",
   "metadata": {
    "jupyter": {
     "outputs_hidden": true
    }
   },
   "outputs": [],
   "source": [
    "modifications"
   ]
  },
  {
   "cell_type": "code",
   "execution_count": null,
   "id": "19",
   "metadata": {},
   "outputs": [],
   "source": [
    "processedIds = set()\n",
    "missingIds = set()"
   ]
  },
  {
   "cell_type": "code",
   "execution_count": null,
   "id": "20",
   "metadata": {},
   "outputs": [],
   "source": [
    "refresh_token()\n",
    "\n",
    "for index, record in enumerate(modifications.items()):\n",
    "    if record[0] in processedIds:\n",
    "        continue\n",
    "    account = backup_updated_fields(record[0], record[1], backup_data, response_data)\n",
    "    if account is None:\n",
    "        missingIds.add(record[0])\n",
    "    else:\n",
    "        try:\n",
    "            account, response = update_account(record[0], record[1])\n",
    "            if account is None or response.status_code != 200:\n",
    "                missingIds.add(record[0])\n",
    "                print(f\"\\r{index + 1}) Error for updating account: {record[0]}. \\t\\t\")\n",
    "            else:\n",
    "                support_package = record[1]['cf']['cf_support_package']\n",
    "                print(f\"{index + 1}) Data for {record[0]} have been updated.\\t\", end='')\n",
    "                apply_sla(record[0], SLAs[support_package])\n",
    "                processedIds.add(record[0])\n",
    "        except Exception as e:   \n",
    "            missingIds.add(record[0])\n",
    "            print(f\"\\r{index + 1}) Error for executing script for account: {record[0]}: {e}\")\n",
    "print(\"Updating process have been finished\")"
   ]
  },
  {
   "cell_type": "code",
   "execution_count": null,
   "id": "21",
   "metadata": {},
   "outputs": [],
   "source": [
    "updated_fields = record[1]\n",
    "today = date.today()\n",
    "response_filename = \"response_\" +str(today) + \"SI_restore.json\"\n",
    "backup_filename = \"backup_\" +str(today) + \"SI_restore.json\"\n",
    "save_response_to_file(response_data = response_data,  filename=response_filename, updated_fields=updated_fields)\n",
    "save_backup_to_file(backup_data, filename=backup_filename, updated_fields=updated_fields)"
   ]
  },
  {
   "cell_type": "code",
   "execution_count": null,
   "id": "22",
   "metadata": {},
   "outputs": [],
   "source": []
  }
 ],
 "metadata": {
  "kernelspec": {
   "display_name": "Python 3 (ipykernel)",
   "language": "python",
   "name": "python3"
  },
  "language_info": {
   "codemirror_mode": {
    "name": "ipython",
    "version": 3
   },
   "file_extension": ".py",
   "mimetype": "text/x-python",
   "name": "python",
   "nbconvert_exporter": "python",
   "pygments_lexer": "ipython3",
   "version": "3.12.3"
  }
 },
 "nbformat": 4,
 "nbformat_minor": 5
}
