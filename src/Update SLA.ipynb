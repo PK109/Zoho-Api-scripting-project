{
 "cells": [
  {
   "cell_type": "code",
   "execution_count": 1,
   "id": "13483b7c-70dc-4d71-8fd6-d1547f81f272",
   "metadata": {},
   "outputs": [],
   "source": [
    "# setting notebook source\n",
    "with open('./config_path.py') as f:\n",
    "    exec(f.read())"
   ]
  },
  {
   "cell_type": "code",
   "execution_count": 2,
   "id": "ee6a7d7f-ea3b-4724-bf2c-057f18093725",
   "metadata": {},
   "outputs": [],
   "source": [
    "from config import secrets, settings\n",
    "from zoho_api import *\n",
    "import pandas as pd\n",
    "import copy"
   ]
  },
  {
   "cell_type": "code",
   "execution_count": null,
   "id": "5071c8e8-dfdb-402f-9dc7-caa918acfefe",
   "metadata": {},
   "outputs": [],
   "source": [
    "backup_data = {}\n",
    "response_data = {}"
   ]
  },
  {
   "cell_type": "code",
   "execution_count": null,
   "id": "d86b7d1e-9fde-4ee5-b1bd-088e5422513c",
   "metadata": {},
   "outputs": [],
   "source": [
    "refresh_token()"
   ]
  },
  {
   "cell_type": "code",
   "execution_count": null,
   "id": "d3ca6b38-152a-4f88-9795-e5497886ae60",
   "metadata": {},
   "outputs": [],
   "source": [
    "SLAs = {}\n",
    "SLAs['SupportME Premium'] = '10977000006774075'\n",
    "SLAs['SupportME Comfort'] = '10977000006804083'\n",
    "SLAs['SupportME Standard'] = '10977000006804131'\n",
    "SLAs['SupportME StartUpCare'] = '10977000000007203'\n",
    "SLAs['Default'] = '10977000000007201'\n",
    "SLAs"
   ]
  },
  {
   "cell_type": "markdown",
   "id": "18e44b90-4447-455f-8a14-9f153944dd76",
   "metadata": {},
   "source": [
    "## App"
   ]
  },
  {
   "cell_type": "code",
   "execution_count": null,
   "id": "69352271-7ed5-49a0-bb51-a63063bfb981",
   "metadata": {},
   "outputs": [],
   "source": [
    "# Current data from Zoho\n",
    "data_source = r\"C:\\Users\\KutaP\\OneDrive - Mitsubishi Electric Europe B.V\\Zoho\\Dane Raportowe\\Accounts_analysis.xlsx\"\n",
    "# Data to be updated\n",
    "data_update = r\"C:\\Users\\KutaP\\Desktop\\Serwisy - Podstawowy (1).xlsx\""
   ]
  },
  {
   "cell_type": "code",
   "execution_count": null,
   "id": "7e619076-2731-41ac-959f-7051dd25adc0",
   "metadata": {},
   "outputs": [],
   "source": [
    "# READ ZOHO ID AS STRING\n",
    "stg_df = pd.read_excel(data_source, sheet_name='Merge SAP Zoho', dtype= {'Account Reference Id': object} )"
   ]
  },
  {
   "cell_type": "code",
   "execution_count": null,
   "id": "7c3c8708-f7f4-4b63-8863-e565926de02c",
   "metadata": {},
   "outputs": [],
   "source": [
    "df = copy.deepcopy(stg_df)\n",
    "#filtering\n",
    "df = df[df['Zoho SAP_ID_Integer']>0] "
   ]
  },
  {
   "cell_type": "code",
   "execution_count": null,
   "id": "4c8d3735-2457-4c78-92f9-fa3eb78ea91c",
   "metadata": {},
   "outputs": [],
   "source": [
    "# data to update\n",
    "update_df = pd.read_excel(data_update, sheet_name='Values', index_col='SAP ID Klienta')"
   ]
  },
  {
   "cell_type": "code",
   "execution_count": null,
   "id": "980a1e1f-66ee-4bc5-8e4e-8acf82423af2",
   "metadata": {},
   "outputs": [],
   "source": [
    "# joining data to have Zoho Account Reference Id and required new information in one table\n",
    "joined_df = update_df.join(df.set_index('ERP Account ID'))"
   ]
  },
  {
   "cell_type": "code",
   "execution_count": null,
   "id": "3744297a-a932-4952-845d-09c12477c1d5",
   "metadata": {},
   "outputs": [],
   "source": [
    "columns_to_keep = ['Zoho SAP ID',\n",
    "       'Account Reference Id', 'Klient', 'Nazwa usługi', 'Data rozpoczęcia usługi',\n",
    "       'Data zakończenia usługi', 'Opiekun klienta', 'Program Lojalnościowy']"
   ]
  },
  {
   "cell_type": "code",
   "execution_count": null,
   "id": "405f451d-909c-470a-82be-5ff47afc4fae",
   "metadata": {},
   "outputs": [],
   "source": [
    "joined_df = joined_df[columns_to_keep].dropna(subset =['Account Reference Id']).set_index('Account Reference Id')"
   ]
  },
  {
   "cell_type": "code",
   "execution_count": null,
   "id": "dc79a00c-b5f3-430c-825b-087c6b18fcc9",
   "metadata": {},
   "outputs": [],
   "source": [
    "joined_df['Nazwa usługi'] = joined_df['Nazwa usługi'].apply(lambda x: \" \".join(x.split(' ')[:2]))"
   ]
  },
  {
   "cell_type": "code",
   "execution_count": null,
   "id": "549e15cd-f968-4776-9591-a9eb4d3e65a9",
   "metadata": {},
   "outputs": [],
   "source": [
    "joined_df['SLA'] = joined_df['Nazwa usługi'].apply(lambda x: SLAs[x])"
   ]
  },
  {
   "cell_type": "code",
   "execution_count": null,
   "id": "b86a8d88-3ef5-4c21-9887-89979a761301",
   "metadata": {},
   "outputs": [],
   "source": [
    "for record in joined_df.iterrows():\n",
    "    accountId = record[0]\n",
    "    account = backup_updated_fields(accountId, {'associatedSLAIds': None}, backup_data, response_data)\n",
    "    apply_sla(account_id=accountId, sla_id=record[1]['SLA'] )"
   ]
  }
 ],
 "metadata": {
  "kernelspec": {
   "display_name": "Python 3 (ipykernel)",
   "language": "python",
   "name": "python3"
  },
  "language_info": {
   "codemirror_mode": {
    "name": "ipython",
    "version": 3
   },
   "file_extension": ".py",
   "mimetype": "text/x-python",
   "name": "python",
   "nbconvert_exporter": "python",
   "pygments_lexer": "ipython3",
   "version": "3.12.3"
  }
 },
 "nbformat": 4,
 "nbformat_minor": 5
}
