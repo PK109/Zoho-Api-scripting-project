{
 "cells": [
  {
   "cell_type": "code",
   "execution_count": null,
   "id": "0",
   "metadata": {},
   "outputs": [],
   "source": [
    "# setting notebook source\n",
    "with open('./config_path.py') as f:\n",
    "    exec(f.read())"
   ]
  },
  {
   "cell_type": "code",
   "execution_count": null,
   "id": "1",
   "metadata": {},
   "outputs": [],
   "source": [
    "from config import secrets, settings\n",
    "from zoho_api import *\n",
    "import pandas as pd\n",
    "import copy\n",
    "from datetime import date"
   ]
  },
  {
   "cell_type": "code",
   "execution_count": null,
   "id": "2",
   "metadata": {},
   "outputs": [],
   "source": [
    "backup_data = {}\n",
    "response_data = {}"
   ]
  },
  {
   "cell_type": "code",
   "execution_count": null,
   "id": "3",
   "metadata": {},
   "outputs": [],
   "source": [
    "refresh_token()"
   ]
  },
  {
   "cell_type": "code",
   "execution_count": null,
   "id": "4",
   "metadata": {},
   "outputs": [],
   "source": [
    "SLAs = {}\n",
    "SLAs['SupportME Premium'] = '10977000006774075'\n",
    "SLAs['SupportME Comfort'] = '10977000006804083'\n",
    "SLAs['SupportME Standard'] = '10977000006804131'\n",
    "SLAs['SupportME StartUpCare'] = '10977000000007203'\n",
    "SLAs['Default'] = '10977000000007201'\n",
    "SLAs"
   ]
  },
  {
   "cell_type": "code",
   "execution_count": null,
   "id": "5",
   "metadata": {},
   "outputs": [],
   "source": [
    "SupportHours = {}\n",
    "SupportHours['SupportME Premium'] = 204\n",
    "SupportHours['SupportME Comfort'] = 96\n",
    "SupportHours['SupportME ComfortPlus'] = 8\n",
    "SupportHours['SupportME Standard'] = 36\n",
    "SupportHours[None] = None\n",
    "SupportHours"
   ]
  },
  {
   "cell_type": "code",
   "execution_count": null,
   "id": "6",
   "metadata": {},
   "outputs": [],
   "source": [
    "field_list = ['id'\n",
    "              , 'accountName'\n",
    "              , 'cf_account_id'\n",
    "              , 'website'\n",
    "              , 'cf_account_id'\n",
    "              , 'cf_support_package'\n",
    "              , 'cf_support_subsription_expiry_date'\n",
    "              , 'associatedSLAIds'\n",
    "              , 'cf_max_support_time'\n",
    "              , 'cf_picklist_1'  # Customer type\n",
    "              # , 'cf_loyality_program'\n",
    "             ]"
   ]
  },
  {
   "cell_type": "markdown",
   "id": "7",
   "metadata": {},
   "source": [
    "## App"
   ]
  },
  {
   "cell_type": "code",
   "execution_count": null,
   "id": "8",
   "metadata": {},
   "outputs": [],
   "source": [
    "# Current data from Zoho\n",
    "data_source = list_accounts(view='OEM customers', field_list=field_list)"
   ]
  },
  {
   "cell_type": "code",
   "execution_count": null,
   "id": "9",
   "metadata": {},
   "outputs": [],
   "source": [
    "# Current data from Zoho\n",
    "test = list_accounts(view='SI Elite customers', field_list=field_list)"
   ]
  },
  {
   "cell_type": "code",
   "execution_count": null,
   "id": "10",
   "metadata": {},
   "outputs": [],
   "source": [
    "test"
   ]
  },
  {
   "cell_type": "code",
   "execution_count": null,
   "id": "11",
   "metadata": {},
   "outputs": [],
   "source": [
    "# Data to be updated\n",
    "data_update = pd.read_excel(r\"../ListaOEMdoZOHO.xlsx\" )"
   ]
  },
  {
   "cell_type": "code",
   "execution_count": null,
   "id": "12",
   "metadata": {},
   "outputs": [],
   "source": [
    "update_df = data_update[data_update['Support Package'] == 'Standard']\n",
    "len(update_df)"
   ]
  },
  {
   "cell_type": "code",
   "execution_count": null,
   "id": "13",
   "metadata": {},
   "outputs": [],
   "source": [
    "df = pd.json_normalize(data_source)"
   ]
  },
  {
   "cell_type": "code",
   "execution_count": null,
   "id": "14",
   "metadata": {},
   "outputs": [],
   "source": [
    "# joining data to have Zoho Account Reference Id and required new information in one table\n",
    "joined_df = update_df.set_index('Zoho SAP ID').join(df.set_index('cf.cf_account_id')).reset_index()"
   ]
  },
  {
   "cell_type": "code",
   "execution_count": null,
   "id": "15",
   "metadata": {},
   "outputs": [],
   "source": [
    "columns_to_keep = ['Zoho SAP ID',\n",
    " 'Zoho Account Name',\n",
    " 'Country (Account)',\n",
    " 'Customer type',\n",
    " 'Loyality Program',\n",
    " 'Sales region',\n",
    " 'Support Package',\n",
    " 'Region',\n",
    " 'id',\n",
    " 'accountName']"
   ]
  },
  {
   "cell_type": "code",
   "execution_count": null,
   "id": "16",
   "metadata": {},
   "outputs": [],
   "source": [
    "joined_df = joined_df[columns_to_keep]"
   ]
  },
  {
   "cell_type": "code",
   "execution_count": null,
   "id": "17",
   "metadata": {},
   "outputs": [],
   "source": [
    "joined_df.head()"
   ]
  },
  {
   "cell_type": "code",
   "execution_count": null,
   "id": "18",
   "metadata": {},
   "outputs": [],
   "source": [
    "len(joined_df[joined_df['id']==''])"
   ]
  },
  {
   "cell_type": "code",
   "execution_count": null,
   "id": "19",
   "metadata": {},
   "outputs": [],
   "source": [
    "data_source[0]"
   ]
  },
  {
   "cell_type": "code",
   "execution_count": null,
   "id": "20",
   "metadata": {},
   "outputs": [],
   "source": [
    "accounts_updated = copy.deepcopy(data_source)\n",
    "modifications = {}\n",
    "for account in accounts_updated:\n",
    "    support_package = ''\n",
    "    record = joined_df[joined_df['id']==account['id']]\n",
    "    \n",
    "    if len(record) == 0: #no need for update\n",
    "        continue\n",
    "    elif len(record) == 1: # there is record to update\n",
    "        support_package = 'SupportME Standard'\n",
    "        account['cf']['cf_support_subsription_expiry_date'] = '2026-04-30'\n",
    "    else: # error in Zoho Data\n",
    "        raise DuplicatedAccountsError\n",
    "\n",
    "    # if any modification have been applied on data, prepare setup\n",
    "    if support_package != '':   \n",
    "        zoho_id = account.pop('id')\n",
    "        account.pop('accountName')\n",
    "        account.pop('associatedSLAIds')\n",
    "        account.pop('website')\n",
    "        account['cf'].pop('cf_account_id')\n",
    "        account['cf'].pop('cf_picklist_1')\n",
    "        account['cf']['cf_support_package'] = support_package\n",
    "        account['cf']['cf_max_support_time'] = SupportHours[support_package]\n",
    "        # account['website'] = support_package\n",
    "        modifications[zoho_id] = account"
   ]
  },
  {
   "cell_type": "code",
   "execution_count": null,
   "id": "21",
   "metadata": {},
   "outputs": [],
   "source": [
    "modifications"
   ]
  },
  {
   "cell_type": "code",
   "execution_count": null,
   "id": "22",
   "metadata": {},
   "outputs": [],
   "source": [
    "processedIds = set()\n",
    "missingIds = set()"
   ]
  },
  {
   "cell_type": "code",
   "execution_count": null,
   "id": "23",
   "metadata": {},
   "outputs": [],
   "source": [
    "refresh_token()\n",
    "\n",
    "for index, record in enumerate(modifications.items()):\n",
    "    if record[0] in processedIds:\n",
    "        continue\n",
    "    account = backup_updated_fields(record[0], record[1], backup_data, response_data)\n",
    "    if account is None:\n",
    "        missingIds.add(record[0])\n",
    "    else:\n",
    "        try:\n",
    "            account, response = update_account(record[0], record[1])\n",
    "            if account is None or response.status_code != 200:\n",
    "                missingIds.add(record[0])\n",
    "                print(f\"\\r{index + 1}) Error for updating account: {record[0]}. \\t\\t\")\n",
    "            else:\n",
    "                support_package = record[1]['cf']['cf_support_package']\n",
    "                print(f\"{index + 1}) Data for {record[0]} have been updated.\\t\", end='')\n",
    "                apply_sla(record[0], SLAs[support_package])\n",
    "                processedIds.add(record[0])\n",
    "        except Exception as e:   \n",
    "            missingIds.add(record[0])\n",
    "            print(f\"\\r{index + 1}) Error for executing script for account: {record[0]}: {e}\")\n",
    "print(\"Updating process have been finished\")"
   ]
  },
  {
   "cell_type": "code",
   "execution_count": null,
   "id": "24",
   "metadata": {},
   "outputs": [],
   "source": [
    "len(processedIds)"
   ]
  },
  {
   "cell_type": "code",
   "execution_count": null,
   "id": "25",
   "metadata": {},
   "outputs": [],
   "source": [
    "record[1]"
   ]
  },
  {
   "cell_type": "code",
   "execution_count": null,
   "id": "26",
   "metadata": {},
   "outputs": [],
   "source": [
    "updated_fields = record[1]\n",
    "today = date.today()\n",
    "response_filename = \"response_\" +str(today) + \"_SLA_OEM.json\"\n",
    "backup_filename = \"backup_\" +str(today) + \"_SLA_OEM.json\"\n",
    "save_response_to_file(response_data = response_data,  filename=response_filename, updated_fields=updated_fields)\n",
    "save_backup_to_file(backup_data, filename=backup_filename, updated_fields=updated_fields)"
   ]
  },
  {
   "cell_type": "code",
   "execution_count": null,
   "id": "27",
   "metadata": {},
   "outputs": [],
   "source": []
  }
 ],
 "metadata": {
  "kernelspec": {
   "display_name": "Python 3 (ipykernel)",
   "language": "python",
   "name": "python3"
  },
  "language_info": {
   "codemirror_mode": {
    "name": "ipython",
    "version": 3
   },
   "file_extension": ".py",
   "mimetype": "text/x-python",
   "name": "python",
   "nbconvert_exporter": "python",
   "pygments_lexer": "ipython3",
   "version": "3.12.3"
  }
 },
 "nbformat": 4,
 "nbformat_minor": 5
}
